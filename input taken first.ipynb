{
 "cells": [
  {
   "cell_type": "code",
   "execution_count": 3,
   "id": "7a418d8a-a10e-42fd-bd6b-66a93ae3196e",
   "metadata": {},
   "outputs": [
    {
     "name": "stdin",
     "output_type": "stream",
     "text": [
      "Enter a no 5\n",
      "Enter b no 5\n"
     ]
    },
    {
     "name": "stdout",
     "output_type": "stream",
     "text": [
      "sum 10\n"
     ]
    }
   ],
   "source": [
    "a=int(input(\"Enter a no\")) #int is add because input as string\n",
    "b=int(input(\"Enter b no\"))\n",
    "print(\"sum\",a+b)\n"
   ]
  },
  {
   "cell_type": "code",
   "execution_count": 11,
   "id": "94e1ef0d-109c-40f2-a79d-c2d97450ece4",
   "metadata": {},
   "outputs": [
    {
     "name": "stdin",
     "output_type": "stream",
     "text": [
      " Enter the area of square side  4\n",
      "Enter the area of square side 4\n"
     ]
    },
    {
     "name": "stdout",
     "output_type": "stream",
     "text": [
      "area of square 16\n"
     ]
    }
   ],
   "source": [
    "side=int(input(\" Enter the area of square side\"))\n",
    "side=int(input(\"Enter the area of square side\"))\n",
    "print(\"area of square\",side*side)"
   ]
  },
  {
   "cell_type": "code",
   "execution_count": 12,
   "id": "3479aa62-122d-42b1-9cab-81a650061760",
   "metadata": {},
   "outputs": [
    {
     "name": "stdin",
     "output_type": "stream",
     "text": [
      " Enter the area of square side 4\n"
     ]
    },
    {
     "name": "stdout",
     "output_type": "stream",
     "text": [
      "area of square 16\n"
     ]
    }
   ],
   "source": [
    "side=int(input(\" Enter the area of square side\"))\n",
    "print(\"area of square\",side*side)"
   ]
  },
  {
   "cell_type": "code",
   "execution_count": 16,
   "id": "0615cede-ddb2-418b-804c-97ef1af4205f",
   "metadata": {},
   "outputs": [
    {
     "name": "stdin",
     "output_type": "stream",
     "text": [
      " Enter the average a 2\n",
      "Enter the  average b 2\n"
     ]
    },
    {
     "name": "stdout",
     "output_type": "stream",
     "text": [
      "find the average 2.0\n"
     ]
    }
   ],
   "source": [
    "#find average value two float\n",
    "a=float(input(\" Enter the average a\"))\n",
    "b=float(input(\"Enter the  average b\"))\n",
    "print(\"find the average\",(a+b)/2) # my mistake is not use bracket (a+b)"
   ]
  },
  {
   "cell_type": "code",
   "execution_count": 1,
   "id": "807a15aa-20ac-4628-913c-2f66fbd10e1d",
   "metadata": {},
   "outputs": [
    {
     "data": {
      "text/plain": [
       "False"
      ]
     },
     "execution_count": 1,
     "metadata": {},
     "output_type": "execute_result"
    }
   ],
   "source": [
    "3>4"
   ]
  },
  {
   "cell_type": "code",
   "execution_count": 4,
   "id": "f26816b5-1c4f-4f13-b26b-cd57486c1f89",
   "metadata": {},
   "outputs": [
    {
     "name": "stdout",
     "output_type": "stream",
     "text": [
      "The number is greater than 0\n"
     ]
    }
   ],
   "source": [
    " a=100\n",
    "if a>0 : # in my mistake is if close to line write \n",
    "        print(\"The number is greater than 0\")"
   ]
  },
  {
   "cell_type": "code",
   "execution_count": 5,
   "id": "1b5c4eec-7b5e-410f-ad95-a18d6d0c9d76",
   "metadata": {},
   "outputs": [
    {
     "name": "stdout",
     "output_type": "stream",
     "text": [
      "I will not play a cricket\n"
     ]
    }
   ],
   "source": [
    "weather=\"Rainy\"\n",
    "if weather==\"Rainy\":\n",
    "    print(\"I will not play a cricket\")"
   ]
  },
  {
   "cell_type": "code",
   "execution_count": 6,
   "id": "b6ebcdfc-f46b-406e-a661-2db30c17cb0a",
   "metadata": {},
   "outputs": [
    {
     "name": "stdout",
     "output_type": "stream",
     "text": [
      "Vote\n"
     ]
    }
   ],
   "source": [
    "age=19\n",
    "if age>=18:\n",
    "    print(\"Vote\")"
   ]
  },
  {
   "cell_type": "code",
   "execution_count": 8,
   "id": "3eef81c0-da70-4a63-835b-7d8204059829",
   "metadata": {},
   "outputs": [
    {
     "name": "stdin",
     "output_type": "stream",
     "text": [
      "light: Yellow\n"
     ]
    },
    {
     "name": "stdout",
     "output_type": "stream",
     "text": [
      "Go\n"
     ]
    }
   ],
   "source": [
    "light=input(\"light:\")\n",
    "if light==\"Red\":\n",
    "    print(\"Stop\")\n",
    "elif light==\"Green\":\n",
    "    print(\"Look\")\n",
    "elif light==\"Yellow\":\n",
    "    print(\"Go\")\n",
    "else:\n",
    "    print(\"The light is broken\")"
   ]
  },
  {
   "cell_type": "code",
   "execution_count": 20,
   "id": "f4203cad-a06d-4d3a-9822-829b1a1251ac",
   "metadata": {},
   "outputs": [
    {
     "name": "stdin",
     "output_type": "stream",
     "text": [
      "marks: 89\n"
     ]
    },
    {
     "ename": "TypeError",
     "evalue": "'>=' not supported between instances of 'str' and 'int'",
     "output_type": "error",
     "traceback": [
      "\u001b[0;31m---------------------------------------------------------------------------\u001b[0m",
      "\u001b[0;31mTypeError\u001b[0m                                 Traceback (most recent call last)",
      "Cell \u001b[0;32mIn[20], line 2\u001b[0m\n\u001b[1;32m      1\u001b[0m marks \u001b[38;5;241m=\u001b[39m \u001b[38;5;28minput\u001b[39m(\u001b[38;5;124m\"\u001b[39m\u001b[38;5;124mmarks:\u001b[39m\u001b[38;5;124m\"\u001b[39m)\n\u001b[0;32m----> 2\u001b[0m \u001b[38;5;28;01mif\u001b[39;00m(\u001b[43mmarks\u001b[49m\u001b[43m \u001b[49m\u001b[38;5;241;43m>\u001b[39;49m\u001b[38;5;241;43m=\u001b[39;49m\u001b[43m \u001b[49m\u001b[38;5;241;43m90\u001b[39;49m):\n\u001b[1;32m      3\u001b[0m     \u001b[38;5;28mprint\u001b[39m(\u001b[38;5;124m\"\u001b[39m\u001b[38;5;124mA\u001b[39m\u001b[38;5;124m\"\u001b[39m)\n\u001b[1;32m      4\u001b[0m \u001b[38;5;28;01melif\u001b[39;00m(marks \u001b[38;5;241m>\u001b[39m\u001b[38;5;241m=\u001b[39m \u001b[38;5;241m80\u001b[39m \u001b[38;5;129;01mand\u001b[39;00m marks \u001b[38;5;241m<\u001b[39m \u001b[38;5;241m90\u001b[39m):  \n",
      "\u001b[0;31mTypeError\u001b[0m: '>=' not supported between instances of 'str' and 'int'"
     ]
    }
   ],
   "source": [
    "marks = input(\"marks:\")\n",
    "if(marks >= 90):\n",
    "    print(\"A\")\n",
    "elif(marks >= 80 and marks < 90):  \n",
    "    print(\"B\")\n",
    "elif(marks >= 70 and marks < 80):\n",
    "    print(\"C\")\n",
    "else:\n",
    "    print(\"D\")"
   ]
  },
  {
   "cell_type": "code",
   "execution_count": 19,
   "id": "195a28e4-2c3b-4aef-9dfa-571976aec8da",
   "metadata": {},
   "outputs": [
    {
     "name": "stdin",
     "output_type": "stream",
     "text": [
      "A : 5\n",
      "M/F : M\n"
     ]
    },
    {
     "name": "stdout",
     "output_type": "stream",
     "text": [
      "fee is 300\n"
     ]
    }
   ],
   "source": [
    "A = int(input(\"A :\"))\n",
    "G = input(\"M/F :\")\n",
    "if((A==1 or A==2) and G == \"M\"):\n",
    "          print(\"fee is 100\")\n",
    "elif(A==3 or A==4 or G== \"F\"):\n",
    "          print(\"fee is 200\")\n",
    "elif(A ==5 and G ==\"M\"):\n",
    "          print(\"fee is 300\")\n",
    "else:\n",
    "          print(\"no fee\")"
   ]
  },
  {
   "cell_type": "code",
   "execution_count": 24,
   "id": "8784320b-8d88-4c26-bd3e-0ca9df399063",
   "metadata": {},
   "outputs": [
    {
     "name": "stdin",
     "output_type": "stream",
     "text": [
      "Enter a value a: 2\n",
      "Enter a value b: 2\n",
      "Enter a value c: 5\n"
     ]
    },
    {
     "name": "stdout",
     "output_type": "stream",
     "text": [
      "0.2\n"
     ]
    }
   ],
   "source": [
    "a=float(input(\"Enter a value a:\"))\n",
    "b=float(input(\"Enter a value b:\"))\n",
    "c=float(input(\"Enter a value c:\"))\n",
    "print(a*b*c/100)"
   ]
  },
  {
   "cell_type": "code",
   "execution_count": null,
   "id": "c77f9e85-8dbb-4fd5-a7ad-2b336f74dcbf",
   "metadata": {},
   "outputs": [],
   "source": [
    "name = input(\"Please enter your name\")\n",
    "email = input(\"Please enter your email\")\n",
    "password = input(\"Please enter your password\")\n",
    "\n",
    "if name == \"\":\n",
    "    print(\"Please enter a valid name, can not be empty\")\n",
    "else:\n",
    "    if \"@\" not in email :\n",
    "        print(\"Please enter a valid email\")\n",
    "    else:\n",
    "        if len(password) < 0:\n",
    "            print(\"No password entered,please provide a valid password\")\n",
    "        else:\n",
    "            print(\"Login/registration is successful\")"
   ]
  },
  {
   "cell_type": "code",
   "execution_count": null,
   "id": "95238cf7-c189-498e-94d5-3b960d00e6f9",
   "metadata": {},
   "outputs": [],
   "source": []
  }
 ],
 "metadata": {
  "kernelspec": {
   "display_name": "Python 3 (ipykernel)",
   "language": "python",
   "name": "python3"
  },
  "language_info": {
   "codemirror_mode": {
    "name": "ipython",
    "version": 3
   },
   "file_extension": ".py",
   "mimetype": "text/x-python",
   "name": "python",
   "nbconvert_exporter": "python",
   "pygments_lexer": "ipython3",
   "version": "3.10.8"
  }
 },
 "nbformat": 4,
 "nbformat_minor": 5
}
